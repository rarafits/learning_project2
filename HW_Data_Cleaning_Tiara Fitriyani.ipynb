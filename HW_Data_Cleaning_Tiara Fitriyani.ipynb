{
 "cells": [
  {
   "cell_type": "markdown",
   "metadata": {
    "id": "cMrT-5F164qj"
   },
   "source": [
    "## Welcome to the Coding Challenge Part 2!"
   ]
  },
  {
   "cell_type": "markdown",
   "metadata": {
    "id": "79NwqjIq64qr"
   },
   "source": [
    "###**Problem 1: Who is in the third place?**"
   ]
  },
  {
   "cell_type": "markdown",
   "metadata": {
    "id": "9db_O8Co64qs"
   },
   "source": [
    "Buatlah fungsi dengan nama ```third_place``` yang dapat melakukan aktifitas berikut: \n",
    "\n",
    "Diberikan daftar nilai ujian dan daftar nama peserta. Output yang diinginkan adalah nama peserta yang mendapat nilai terbaik ke-3. Aturan penentuan urutan skor terbaik adalah sebagai berikut:\n",
    "- Skor yang lebih tinggi lebih baik\n",
    "- Apabila beberapa peserta memiliki skor tes yang sama, mereka dapat menempati nilai peringkat yang sama. Misalnya, jika 2 peserta mendapat nilai 100, maka keduanya menempati urutan pertama.\n",
    "\n",
    "Input pertama dari fungsi adalah daftar nama, dan input kedua pada fungsi adalah daftar skor.\n",
    "\n",
    "##### Example 1:\n",
    "\n",
    "Input:\n",
    "\n",
    "names = [Andi, Budi, Charlie, Dilan, Echa]\n",
    "\n",
    "score = [80, 90, 95, 100, 85]\n",
    "\n",
    "Artinya, Andi mendapat nilai 80, Budi mendapat nilai 90, Charlie mendapat nilai 95, Dilan mendapat nilai 100, dan Echa mendapat nilai 85. Nilai terbaik pertama adalah 100, dan Dilan mendapat nilai. Skor terbaik kedua adalah 95, dan Charlie mendapatkannya. Skor terbaik ketiga adalah 90, dan Budi mendapatkannya. Jadi output kita harus Budi.\n",
    "\n",
    "Output: 'The third winner: Budi'.\n",
    "\n",
    "Saat kita menjalankan ```third_place(names, score)```, outputnya akan 'The third winner: Budi'.\n",
    "\n",
    "##### Example 2:\n",
    "\n",
    "Input:\n",
    "\n",
    "names = [Andi, Budi, Charlie, Dilan, Echa]\n",
    "\n",
    "score = [80, 80, 80, 100, 90]\n",
    "\n",
    "Tartinya, Andi, Budi, dan Charlie mendapat nilai 80, Dilan mendapat nilai 100, dan Echa mendapat nilai 90. Nilai terbaik ketiga adalah 80, dan output kita harus mencantumkan SEMUA peserta yang mendapat nilai 80. \n",
    "\n",
    "Output: 'The third winner: Andi, Budi, Charlie'.\n",
    "\n",
    "Apabila kita menjalankan ```third_place(names, score)```, outputnya adalah 'The third winner: Andi, Budi, Charlie'.\n",
    "\n",
    "\n",
    "##### Example 3:\n",
    "\n",
    "Input:\n",
    "\n",
    "names = [Andi, Budi, Charlie, Dilan, Echa, Fanya]\n",
    "\n",
    "score = [80, 90, 90, 100, 100, 80]\n",
    "\n",
    "Skor terbaik pertama (juara pertama) adalah 100 - Dilan dan Echa berbagi posisi ini. Skor terbaik kedua (pemenang kedua) adalah 90 - Budi dan Charlie berbagi posisi ini. Skor terbaik ketiga (juara ketiga) adalah 80, dan itu dibagi oleh Andi dan Fanya. Jadi, output kita harusnya Andi dan Fanya.\n",
    "\n",
    "Output: 'The third winner: Andi, Fanya'."
   ]
  },
  {
   "cell_type": "code",
   "execution_count": 6,
   "metadata": {
    "id": "QOoSINMz64qv"
   },
   "outputs": [],
   "source": [
    "def third_place(names, score):\n",
    "    ### Your code starts here ###\n",
    "\n",
    "    #STEP 1: import pandas\n",
    "    import pandas as pd\n",
    "\n",
    "    #STEP 2: membuat dataframe agar mudah megolah data\n",
    "    df = pd.DataFrame({\n",
    "        'name':names,\n",
    "        'score':score\n",
    "    })\n",
    "\n",
    "    #STEP 3:\n",
    "    ## score dijadikan list agar nilai bisa di akses via indeks\n",
    "    score = list(score)\n",
    "    ## dijadikan set karna nilai yang tersimpan harus unique\n",
    "    score = set(score)\n",
    "    ## mengurutkan nilai terkecil ke terbesar supaya indeksnya jelas,\n",
    "    ## jika nilai terbesar ada di paling belakang artinya peringkat 3 adalah nilai ke-3 dari belakang (indeks -3)\n",
    "    score = sorted(score)\n",
    "    \n",
    "    #STEP 4:\n",
    "    ## akses third_place berdasarkan score via indeks\n",
    "    peringkat_tiga = score[-3]\n",
    "    third_place = df[df['score'] == peringkat_tiga]['name']\n",
    "\n",
    "    #STEP 5: the condition for the function#\n",
    "    if len(third_place) > 1:\n",
    "      third_place = \", \".join(third_place)\n",
    "      print(f\"The third winner: {third_place}\")\n",
    "    else:\n",
    "      third_place = \"\".join(third_place)\n",
    "      print(f\"The third winner: {third_place}\")"
   ]
  },
  {
   "cell_type": "code",
   "execution_count": 7,
   "metadata": {
    "colab": {
     "base_uri": "https://localhost:8080/"
    },
    "id": "PuKYl3qLEb8V",
    "outputId": "c6045872-cdbc-41a9-e1fc-f6e3e6c5ebf1"
   },
   "outputs": [
    {
     "name": "stdout",
     "output_type": "stream",
     "text": [
      "The third winner: Budi\n"
     ]
    }
   ],
   "source": [
    "## example 1\n",
    "third_place(['Andi', 'Budi', 'Charlie', 'Dilan', 'Echa'],[80, 90, 95, 100, 85])"
   ]
  },
  {
   "cell_type": "code",
   "execution_count": 8,
   "metadata": {
    "colab": {
     "base_uri": "https://localhost:8080/"
    },
    "id": "lWMZKyWMHGp_",
    "outputId": "756ba61a-7cea-4c76-9cbf-3b9f18175785"
   },
   "outputs": [
    {
     "name": "stdout",
     "output_type": "stream",
     "text": [
      "The third winner: Andi, Budi, Charlie\n"
     ]
    }
   ],
   "source": [
    "## example 2\n",
    "third_place(['Andi', 'Budi', 'Charlie', 'Dilan', 'Echa'],[80, 80, 80, 100, 90])"
   ]
  },
  {
   "cell_type": "code",
   "execution_count": 9,
   "metadata": {
    "colab": {
     "base_uri": "https://localhost:8080/"
    },
    "id": "9wOyqRD3HVB1",
    "outputId": "9860feea-252a-4485-f924-1bf7a64696c0"
   },
   "outputs": [
    {
     "name": "stdout",
     "output_type": "stream",
     "text": [
      "The third winner: Andi, Fanya\n"
     ]
    }
   ],
   "source": [
    "## example 3\n",
    "third_place(['Andi', 'Budi', 'Charlie', 'Dilan', 'Echa', 'Fanya'],[80, 90, 90, 100, 100, 80])"
   ]
  },
  {
   "cell_type": "code",
   "execution_count": 10,
   "metadata": {
    "colab": {
     "base_uri": "https://localhost:8080/"
    },
    "id": "xhrczf3xhI36",
    "outputId": "b72168e6-2f7b-4153-b387-a3b5540f9dc8"
   },
   "outputs": [
    {
     "name": "stdout",
     "output_type": "stream",
     "text": [
      "The third winner: iren\n"
     ]
    }
   ],
   "source": [
    "## contoh sendiri\n",
    "third_place(['rara', 'riko', 'iin', 'rere', 'iren', 'suci'],[90, 70, 80, 100, 85, 100])"
   ]
  },
  {
   "cell_type": "markdown",
   "metadata": {
    "id": "1ydxvEez64q3"
   },
   "source": [
    "###**Problem 2: Find the Square Root!**"
   ]
  },
  {
   "cell_type": "markdown",
   "metadata": {
    "id": "nvcBPlgV64q5"
   },
   "source": [
    "Buatlah fungsi dengan nama ```square_root``` yang dapat melakukan fungsi berikut:\n",
    "\n",
    "Diberikan polinomial orde kedua, temukan akarnya (akar harus dalam bilangan real). Inputnya adalah 3 angka, masing-masing mewakili 'a', 'b', dan 'c', dalam ax^2 + bx + c = 0.\n",
    "\n",
    "Tugas Anda adalah mencari akar dari ax^2 + bx + c = 0. \n",
    "\n",
    "Namun, perhatikan bahwa terkadang persamaan tidak dapat diselesaikan, atau hanya memiliki satu solusi, bukan dua. Fungsi Anda juga harus mempertimbangkan hal ini.\n",
    "\n",
    "Input fungsi Anda adalah 3 angka, angka pertama adalah konstanta 'a', angka kedua adalah konstanta 'b', dan angka ketiga adalah konstanta 'c'.\n",
    "\n",
    "##### Example 1:\n",
    "\n",
    "Input: a = 1, b = -5, c = 6.\n",
    "\n",
    "Artinya, persamaannya adalah 1x^2 - 5x + 6 = 0.\n",
    "Persamaan ini memiliki dua solusi, solusi pertama adalah x = 3, dan solusi kedua adalah x = 2. Jadi, keluaran Anda seharusnya adalah:\n",
    "\n",
    "Output: 'X1 = 3, X2 = 2'.\n",
    "\n",
    "Apabila kita menjalankan kode ```square_root(1, -5, 6)``` maka outputnya adalah: 'X1 = 3, X2 = 2'\n",
    "\n",
    "##### Example 2:\n",
    "\n",
    "Input: a = 2, b = 4, c = 2.\n",
    "\n",
    "Artinya, persamaannya adalah 2x^2 + 4x + 2 = 0.\n",
    "Persamaan ini hanya memiliki satu solusi, yaitu x = -1.\n",
    "\n",
    "Output; 'X = -1'.\n",
    "\n",
    "##### Example 3:\n",
    "\n",
    "Input: a = 1, b = 1, c = 9.\n",
    "\n",
    "Artinya, persamaannya adalah x^2 + x + 9 = 0.\n",
    "Persamaan ini tidak memiliki solusi nyata. (Jika Anda telah belajar tentang bilangan imajiner atau kompleks, solusi dari persamaan ini adalah bilangan-bilangan tersebut. Tapi di sini, kita hanya akan berurusan dengan bilangan real).\n",
    "\n",
    "Output: 'No solution'."
   ]
  },
  {
   "cell_type": "code",
   "execution_count": 15,
   "metadata": {
    "id": "i3_ebfGq64q6"
   },
   "outputs": [],
   "source": [
    "def square_root(a, b, c):\n",
    "    ### Your code starts here ###\n",
    "    \n",
    "    #rumus diskriminan dan akar-akar persamaan kuadrat#\n",
    "    D = (b**2) - (4*a*c)\n",
    "    x1 = ((-b) + ((b**2)-(4*a*c) )**0.5)/(2*a)\n",
    "    x2 = ((-b) - ((b**2)-(4*a*c) )**0.5)/(2*a)\n",
    "    \n",
    "    #syarat-syarat akar persamaan kuadrat#\n",
    "    if D>0 :\n",
    "        print (f'x1 = {int(x1)} ,x2 = {int(x2)}')\n",
    "    elif D==0 :\n",
    "        print (f'x ={int(x1)}')\n",
    "    else :\n",
    "        print ('No Solution')"
   ]
  },
  {
   "cell_type": "code",
   "execution_count": 16,
   "metadata": {
    "colab": {
     "base_uri": "https://localhost:8080/"
    },
    "id": "uaMi0m-Fpc8-",
    "outputId": "16f5ddde-1b06-4287-efd7-8a90f1ac180d"
   },
   "outputs": [
    {
     "name": "stdout",
     "output_type": "stream",
     "text": [
      "x1 = 3 ,x2 = 2\n"
     ]
    }
   ],
   "source": [
    "## example 1\n",
    "square_root(1, -5, 6)"
   ]
  },
  {
   "cell_type": "code",
   "execution_count": 17,
   "metadata": {
    "colab": {
     "base_uri": "https://localhost:8080/"
    },
    "id": "Fz2kIQnBpj2I",
    "outputId": "4019c601-175b-410e-a712-535e45b6bf52"
   },
   "outputs": [
    {
     "name": "stdout",
     "output_type": "stream",
     "text": [
      "x =-1\n"
     ]
    }
   ],
   "source": [
    "## example 2\n",
    "square_root(2, 4, 2)"
   ]
  },
  {
   "cell_type": "code",
   "execution_count": 18,
   "metadata": {
    "colab": {
     "base_uri": "https://localhost:8080/"
    },
    "id": "5oTbvlKQppYt",
    "outputId": "34e222ab-ea57-47d9-8881-2fe66b2c6753"
   },
   "outputs": [
    {
     "name": "stdout",
     "output_type": "stream",
     "text": [
      "No Solution\n"
     ]
    }
   ],
   "source": [
    "## example 3\n",
    "square_root(1, 1, 9)"
   ]
  },
  {
   "cell_type": "code",
   "execution_count": 24,
   "metadata": {},
   "outputs": [
    {
     "name": "stdout",
     "output_type": "stream",
     "text": [
      "x1 = 0 ,x2 = -3\n"
     ]
    }
   ],
   "source": [
    "## contoh sendiri\n",
    "square_root(1, 4, 1)"
   ]
  },
  {
   "cell_type": "markdown",
   "metadata": {
    "id": "NntHmMB164q-"
   },
   "source": [
    "###**Problem 3: Find Distance Between Two Coordinates - Easy**"
   ]
  },
  {
   "cell_type": "markdown",
   "metadata": {
    "id": "12EaDJlE64q_"
   },
   "source": [
    "Buatlah fungsi dengan namna ```distance``` yang dapat melakukan fungsi berikut:\n",
    "\n",
    "Diberikan dua koordinat dalam daftar. Tugas Anda adalah menghitung jarak antara kedua koordinat tersebut. Input dari fungsi Anda akan menjadi dua daftar. Setiap daftar berisi 2 anggota, mewakili posisi x dan y.\n",
    "\n",
    "##### Example 1:\n",
    "\n",
    "Input: \n",
    "\n",
    "point_1 = [5, 5]\n",
    "\n",
    "point_2 = [1, 2]\n",
    "\n",
    "Artinya, koordinat titik pertama adalah (5,5), koordinat titik kedua adalah (1,2). Untuk menghitung jarak antara dua titik ini, kami menggunakan rumus jarak euclidean biasa di sini: https://wikimedia.org/api/rest_v1/media/math/render/svg/2e0c9ce1b3455cb9e92c6bad6684dbda02f69c82. \n",
    "\n",
    "Jaraknya adalah: \n",
    "\n",
    "Akar kuadrat dari ((5-1)^2 + (5-2)^2) = Akar kuadrat dari (16 + 9) = Akar kuadrat dari (25) = 5.\n",
    "\n",
    "Output: 'The distance is 5.'\n",
    "\n",
    "Maka, ketika kita menjalankan kode ```distance(point_1, point_2)``` outputnya akan 'The distance is 5'.\n",
    "\n",
    "##### Example 2:\n",
    "\n",
    "Input:\n",
    "\n",
    "point_1 = [0,-1]\n",
    "\n",
    "point_2 = [-3, 2]\n",
    "\n",
    "Koordinat pertama adalah (0,-1), koordinat kedua adalah (-3,2). Jarak antara mereka adalah:\n",
    "\n",
    "Akar kuadrat dari ((0- -3)^2 + (-1-2)^2) = Akar kuadrat dari (9 + 9) = Akar kuadrat dari (18) = 4,242640687\n",
    "\n",
    "Output: 'The distance is 4.242640687'.\n",
    "\n",
    "Maka, apabila kita menjalankan kode ```distance(point_1, point_2)``` outputnya adalah 'The distance is 4.242640487'.\n",
    "\n",
    "##### FAQ:\n",
    "\n",
    "- Question: \"Desimalnya dibuletin ga?\"\n",
    "- Answer: \"Ga usah peduliin format output desimalnya. Mau keluar berapa angka di belakang koma gpp kok. Yang penting value nya bener.\" "
   ]
  },
  {
   "cell_type": "code",
   "execution_count": 27,
   "metadata": {
    "id": "4rmwX2y564rA"
   },
   "outputs": [],
   "source": [
    "def distance(point_1, point_2):\n",
    "    ### Your code starts here ###\n",
    "    \n",
    "    ## rumus jarak adalah:\n",
    "    titik = ((point_1[0]-point_2[0])**2+(point_1[1]-point_2[1])**2)\n",
    "    jarak = titik ** (1/2)\n",
    "    return (f'The distance is {jarak}')"
   ]
  },
  {
   "cell_type": "code",
   "execution_count": 28,
   "metadata": {
    "colab": {
     "base_uri": "https://localhost:8080/",
     "height": 35
    },
    "id": "q_H-CEa-qI32",
    "outputId": "d4796749-c4fa-4d61-9b85-3f22ac89f028"
   },
   "outputs": [
    {
     "data": {
      "text/plain": [
       "'The distance is 5.0'"
      ]
     },
     "execution_count": 28,
     "metadata": {},
     "output_type": "execute_result"
    }
   ],
   "source": [
    "## Example 1\n",
    "distance([5,5],[1,2])"
   ]
  },
  {
   "cell_type": "code",
   "execution_count": 29,
   "metadata": {
    "colab": {
     "base_uri": "https://localhost:8080/",
     "height": 35
    },
    "id": "h_pB5YVQqXcP",
    "outputId": "0f6ddc1e-f8a7-4fdd-cd91-24ecb0e7860e"
   },
   "outputs": [
    {
     "data": {
      "text/plain": [
       "'The distance is 4.242640687119285'"
      ]
     },
     "execution_count": 29,
     "metadata": {},
     "output_type": "execute_result"
    }
   ],
   "source": [
    "## Example 2\n",
    "distance([0,-1],[-3, 2])"
   ]
  },
  {
   "cell_type": "code",
   "execution_count": 34,
   "metadata": {
    "id": "jdKWloFOqc4d"
   },
   "outputs": [
    {
     "data": {
      "text/plain": [
       "'The distance is 3.0'"
      ]
     },
     "execution_count": 34,
     "metadata": {},
     "output_type": "execute_result"
    }
   ],
   "source": [
    "## contoh sendiri\n",
    "distance([3,-2],[0,-2])"
   ]
  },
  {
   "cell_type": "markdown",
   "metadata": {},
   "source": [
    "# THANKYOU :)"
   ]
  }
 ],
 "metadata": {
  "colab": {
   "provenance": []
  },
  "kernelspec": {
   "display_name": "Python 3 (ipykernel)",
   "language": "python",
   "name": "python3"
  },
  "language_info": {
   "codemirror_mode": {
    "name": "ipython",
    "version": 3
   },
   "file_extension": ".py",
   "mimetype": "text/x-python",
   "name": "python",
   "nbconvert_exporter": "python",
   "pygments_lexer": "ipython3",
   "version": "3.9.13"
  }
 },
 "nbformat": 4,
 "nbformat_minor": 1
}
